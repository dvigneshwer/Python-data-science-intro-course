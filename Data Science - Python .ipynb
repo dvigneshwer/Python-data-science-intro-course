{
 "cells": [
  {
   "cell_type": "code",
   "execution_count": 1,
   "metadata": {},
   "outputs": [
    {
     "name": "stdout",
     "output_type": "stream",
     "text": [
      "Welcome to Python!\n",
      "Hi i am happy to start off with python\n"
     ]
    }
   ],
   "source": [
    "print(\"Welcome to Python!\")\n",
    "print(\"Hi i am happy to start off with python\")"
   ]
  },
  {
   "cell_type": "code",
   "execution_count": 2,
   "metadata": {},
   "outputs": [
    {
     "name": "stdout",
     "output_type": "stream",
     "text": [
      "7\n",
      "1.23\n",
      "True\n"
     ]
    }
   ],
   "source": [
    "#Declaring variables\n",
    "my_int = 7\n",
    "my_float = 1.23\n",
    "my_bool = True\n",
    "\n",
    "print(my_int)\n",
    "print(my_float)\n",
    "print(my_bool)"
   ]
  },
  {
   "cell_type": "code",
   "execution_count": 5,
   "metadata": {},
   "outputs": [
    {
     "ename": "IndentationError",
     "evalue": "expected an indented block (<ipython-input-5-30424c89b799>, line 2)",
     "output_type": "error",
     "traceback": [
      "\u001b[1;36m  File \u001b[1;32m\"<ipython-input-5-30424c89b799>\"\u001b[1;36m, line \u001b[1;32m2\u001b[0m\n\u001b[1;33m    eggs = 12\u001b[0m\n\u001b[1;37m       ^\u001b[0m\n\u001b[1;31mIndentationError\u001b[0m\u001b[1;31m:\u001b[0m expected an indented block\n"
     ]
    }
   ],
   "source": [
    "def spam():\n",
    "eggs = 12\n",
    "return eggs\n",
    "        \n",
    "print(spam())"
   ]
  },
  {
   "cell_type": "code",
   "execution_count": 6,
   "metadata": {},
   "outputs": [
    {
     "name": "stdout",
     "output_type": "stream",
     "text": [
      "12\n"
     ]
    }
   ],
   "source": [
    "#indentation\n",
    "def spam():\n",
    "    eggs = 12\n",
    "    return eggs\n",
    "\n",
    "print(spam())"
   ]
  },
  {
   "cell_type": "code",
   "execution_count": 7,
   "metadata": {},
   "outputs": [
    {
     "name": "stdout",
     "output_type": "stream",
     "text": [
      "11111100\n",
      "100\n",
      "1\n"
     ]
    }
   ],
   "source": [
    "\n",
    "\"\"\" \n",
    "Mathematical operations\n",
    "\"\"\"\n",
    "\n",
    "count_to = 1234560 + 9876540\n",
    "print(count_to)\n",
    "\n",
    "eggs = 10 ** 2\n",
    "print(eggs)\n",
    "\n",
    "spam = 5 % 4\n",
    "print(spam)"
   ]
  },
  {
   "cell_type": "code",
   "execution_count": 8,
   "metadata": {},
   "outputs": [
    {
     "name": "stdout",
     "output_type": "stream",
     "text": [
      "O\n",
      "14\n",
      "norwegian blue\n",
      "NORWEGIAN BLUE\n"
     ]
    }
   ],
   "source": [
    "fifth_letter = \"PYTHON\"[4] \n",
    "print(fifth_letter)\n",
    "\n",
    "parrot = \"ABCD\"\n",
    "len(parrot) \n",
    "print(len(parrot))\n",
    "print(parrot.lower())\n",
    "print(parrot.upper())"
   ]
  },
  {
   "cell_type": "code",
   "execution_count": 10,
   "metadata": {},
   "outputs": [
    {
     "name": "stdout",
     "output_type": "stream",
     "text": [
      "3.14\n",
      "The value of pi is around 3.14\n",
      "The value of pi is around 3.140000\n"
     ]
    }
   ],
   "source": [
    "pi = 3.14\n",
    "str(pi)\n",
    "print(pi)\n",
    "print(\"The value of pi is around \" + str(pi)) \n",
    "print(\"The value of pi is around %f\" % (pi))"
   ]
  },
  {
   "cell_type": "code",
   "execution_count": 11,
   "metadata": {},
   "outputs": [
    {
     "name": "stdout",
     "output_type": "stream",
     "text": [
      "Let's not go to Camelot. its a silly place.\n"
     ]
    }
   ],
   "source": [
    "string_1 = \"Camelot\"\n",
    "string_2 = \"place\"\n",
    "\n",
    "print(\"Let's not go to %s. its a silly %s.\" % (string_1, string_2))"
   ]
  },
  {
   "cell_type": "code",
   "execution_count": 35,
   "metadata": {},
   "outputs": [
    {
     "name": "stdout",
     "output_type": "stream",
     "text": [
      "place is Camelot yyyy place\n"
     ]
    }
   ],
   "source": [
    "print(\"place is {} yyyy {}\".format(string_1,string_2))"
   ]
  },
  {
   "cell_type": "code",
   "execution_count": 15,
   "metadata": {},
   "outputs": [
    {
     "name": "stdout",
     "output_type": "stream",
     "text": [
      "Let's not go to Camelot. its a silly place.\n"
     ]
    }
   ],
   "source": [
    "print(\"Let's not go to {}. its a silly {}.\".format(string_1, string_2))"
   ]
  },
  {
   "cell_type": "code",
   "execution_count": 10,
   "metadata": {},
   "outputs": [
    {
     "name": "stdout",
     "output_type": "stream",
     "text": [
      "What is your name?govind\n",
      "What is your quest?data science\n",
      "What is your favorite color?orange\n",
      "Ah, so your name is govind, your quest is data science, and your favorite color is orange.\n"
     ]
    }
   ],
   "source": [
    "name = input(\"What is your name?\")\n",
    "quest = input(\"What is your quest?\")\n",
    "color = input(\"What is your favorite color?\")\n",
    "\n",
    "print(\"Ah, so your name is %s, your quest is %s, \" \\\n",
    "\"and your favorite color is %s.\" % (name, quest, color))"
   ]
  },
  {
   "cell_type": "code",
   "execution_count": 39,
   "metadata": {},
   "outputs": [
    {
     "data": {
      "text/plain": [
       "int"
      ]
     },
     "execution_count": 39,
     "metadata": {},
     "output_type": "execute_result"
    }
   ],
   "source": [
    "name = \"1\"\n",
    "type(int(name))"
   ]
  },
  {
   "cell_type": "code",
   "execution_count": null,
   "metadata": {},
   "outputs": [],
   "source": []
  },
  {
   "cell_type": "code",
   "execution_count": null,
   "metadata": {},
   "outputs": [],
   "source": []
  },
  {
   "cell_type": "code",
   "execution_count": 20,
   "metadata": {},
   "outputs": [
    {
     "name": "stdout",
     "output_type": "stream",
     "text": [
      "2018/9/26\n",
      "9/26/2018 22:39:45\n"
     ]
    }
   ],
   "source": [
    "print('%s/%s/%s' % (now.year, now.month, now.day))\n",
    "\n",
    "print('%s/%s/%s %s:%s:%s' % (now.month, now.day, now.year, now.hour, now.minute, now.second))"
   ]
  },
  {
   "cell_type": "code",
   "execution_count": 22,
   "metadata": {},
   "outputs": [
    {
     "name": "stdout",
     "output_type": "stream",
     "text": [
      "T\n"
     ]
    }
   ],
   "source": [
    "response = 'Y'\n",
    "answer = \"Left\"\n",
    "\n",
    "if answer == \"Left\":\n",
    "    print(\"T\")"
   ]
  },
  {
   "cell_type": "code",
   "execution_count": 42,
   "metadata": {},
   "outputs": [
    {
     "name": "stdout",
     "output_type": "stream",
     "text": [
      "-1\n",
      "0\n",
      "1\n"
     ]
    }
   ],
   "source": [
    "def greater_less_equal_5(answer):\n",
    "    if answer>5:\n",
    "        return 1\n",
    "    elif answer< 5:          \n",
    "        return -1\n",
    "    else:\n",
    "        return 0\n",
    "        \n",
    "print(greater_less_equal_5(4))\n",
    "print(greater_less_equal_5(5))\n",
    "print(greater_less_equal_5(6))"
   ]
  },
  {
   "cell_type": "code",
   "execution_count": 24,
   "metadata": {},
   "outputs": [
    {
     "name": "stdout",
     "output_type": "stream",
     "text": [
      "5.0\n"
     ]
    }
   ],
   "source": [
    "import math\n",
    "print(math.sqrt(25))"
   ]
  },
  {
   "cell_type": "code",
   "execution_count": 43,
   "metadata": {},
   "outputs": [
    {
     "data": {
      "text/plain": [
       "5.0"
      ]
     },
     "execution_count": 43,
     "metadata": {},
     "output_type": "execute_result"
    }
   ],
   "source": [
    "#Import sqrt from math module\n",
    "from math import sqrt\n",
    "sqrt(25)"
   ]
  },
  {
   "cell_type": "code",
   "execution_count": 26,
   "metadata": {},
   "outputs": [
    {
     "data": {
      "text/plain": [
       "5.0"
      ]
     },
     "execution_count": 26,
     "metadata": {},
     "output_type": "execute_result"
    }
   ],
   "source": [
    "# Import *everything* from the math module\n",
    "from math import *\n",
    "sqrt(25)"
   ]
  },
  {
   "cell_type": "code",
   "execution_count": 40,
   "metadata": {},
   "outputs": [
    {
     "name": "stdout",
     "output_type": "stream",
     "text": [
      "2018-09-27 09:20:46.768109\n",
      "2018\n",
      "9\n",
      "27\n"
     ]
    }
   ],
   "source": [
    "from datetime import datetime\n",
    "\n",
    "now = datetime.now()\n",
    "print(now)\n",
    "print(now.year)\n",
    "print(now.month)\n",
    "print(now.day)"
   ]
  },
  {
   "cell_type": "code",
   "execution_count": 28,
   "metadata": {},
   "outputs": [
    {
     "name": "stdout",
     "output_type": "stream",
     "text": [
      "10\n",
      "-10\n",
      "10\n"
     ]
    },
    {
     "data": {
      "text/plain": [
       "10"
      ]
     },
     "execution_count": 28,
     "metadata": {},
     "output_type": "execute_result"
    }
   ],
   "source": [
    "def biggest_number(*args):\n",
    "    print(max(args))\n",
    "    return max(args)\n",
    "    \n",
    "def smallest_number(*args):\n",
    "    print(min(args))\n",
    "    return min(args)\n",
    "\n",
    "def distance_from_zero(arg):\n",
    "    print(abs(arg))\n",
    "    return abs(arg)\n",
    "\n",
    "\n",
    "biggest_number(-10, -5, 5, 10)\n",
    "smallest_number(-10, -5, 5, 10)\n",
    "distance_from_zero(-10)"
   ]
  },
  {
   "cell_type": "code",
   "execution_count": 29,
   "metadata": {},
   "outputs": [
    {
     "name": "stdout",
     "output_type": "stream",
     "text": [
      "<class 'int'>\n",
      "<class 'float'>\n",
      "<class 'str'>\n"
     ]
    }
   ],
   "source": [
    "print(type(42))\n",
    "print(type(4.2))\n",
    "print(type('spam'))"
   ]
  },
  {
   "cell_type": "code",
   "execution_count": 31,
   "metadata": {},
   "outputs": [
    {
     "name": "stdout",
     "output_type": "stream",
     "text": [
      "The first animal at the zoo is the pangolin\n",
      "The second animal at the zoo is the cassowary\n",
      "The third animal at the zoo is the sloth\n",
      "The fourth animal at the zoo is the monkey\n",
      "['sunglasses', 'hat']\n",
      "['passport', 'laptop']\n",
      "['suit', 'shoes']\n",
      "cat\n",
      "dog\n",
      "frog\n"
     ]
    }
   ],
   "source": [
    "#list and dictionary\n",
    "\n",
    "#Introduction to list\n",
    "zoo_animals = [\"pangolin\", \"cassowary\", \"sloth\", \"monkey\"];\n",
    "# One animal is missing!\n",
    "\n",
    "if len(zoo_animals) > 3:\n",
    "\tprint(\"The first animal at the zoo is the \" + zoo_animals[0])\n",
    "\tprint(\"The second animal at the zoo is the \" + zoo_animals[1])\n",
    "\tprint(\"The third animal at the zoo is the \" + zoo_animals[2])\n",
    "\tprint(\"The fourth animal at the zoo is the \" + zoo_animals[3])\n",
    "    \n",
    "suitcase = [\"sunglasses\", \"hat\", \"passport\", \"laptop\", \"suit\", \"shoes\"]\n",
    "\n",
    "first  = suitcase[0:2]  # The first and second items (index zero and one)\n",
    "middle = suitcase[2:4]  # Third and fourth items (index two and three)\n",
    "last   = suitcase[4:6]   # The last two items (index four and five)\n",
    "\n",
    "print(first)\n",
    "print(middle)\n",
    "print(last)\n",
    "\n",
    "animals = \"catdogfrog\"\n",
    "cat  =  animals[:3]   # The first three characters of animals\n",
    "dog  =  animals[3:6]             # The fourth through sixth characters\n",
    "frog =  animals[6:11] # From the seventh character to the end\n",
    "\n",
    "print(cat)\n",
    "print(dog)\n",
    "print(frog)"
   ]
  },
  {
   "cell_type": "code",
   "execution_count": 44,
   "metadata": {},
   "outputs": [],
   "source": [
    "my_dict = {}"
   ]
  },
  {
   "cell_type": "code",
   "execution_count": 45,
   "metadata": {},
   "outputs": [
    {
     "data": {
      "text/plain": [
       "{}"
      ]
     },
     "execution_count": 45,
     "metadata": {},
     "output_type": "execute_result"
    }
   ],
   "source": [
    "my_dict"
   ]
  },
  {
   "cell_type": "code",
   "execution_count": 46,
   "metadata": {},
   "outputs": [],
   "source": [
    "my_dict['class'] = [1,2,3]"
   ]
  },
  {
   "cell_type": "code",
   "execution_count": 48,
   "metadata": {},
   "outputs": [
    {
     "data": {
      "text/plain": [
       "1"
      ]
     },
     "execution_count": 48,
     "metadata": {},
     "output_type": "execute_result"
    }
   ],
   "source": [
    "my_dict['class'][0]"
   ]
  },
  {
   "cell_type": "code",
   "execution_count": null,
   "metadata": {},
   "outputs": [],
   "source": [
    "q_list = [[1,23,1331],[12,34,5]] # find the max in q_list?"
   ]
  },
  {
   "cell_type": "code",
   "execution_count": 9,
   "metadata": {},
   "outputs": [
    {
     "name": "stdout",
     "output_type": "stream",
     "text": [
      "1\n",
      "45\n",
      "45\n"
     ]
    }
   ],
   "source": [
    "a = [[1,23,4],[3,45,6]]\n",
    "\n",
    "b = []\n",
    "for iter_elem in a:\n",
    "    for i in iter_elem:\n",
    "        b.append(i)\n",
    "b.sort()\n",
    "print(b[0])\n",
    "print(b[len(b)-1])\n",
    "print(b[-1])\n",
    "    "
   ]
  },
  {
   "cell_type": "code",
   "execution_count": 11,
   "metadata": {},
   "outputs": [
    {
     "data": {
      "text/plain": [
       "123"
      ]
     },
     "execution_count": 11,
     "metadata": {},
     "output_type": "execute_result"
    }
   ],
   "source": [
    "a = [123,23,4,5,67,2]\n",
    "max(a)"
   ]
  },
  {
   "cell_type": "code",
   "execution_count": 12,
   "metadata": {},
   "outputs": [
    {
     "data": {
      "text/plain": [
       "0"
      ]
     },
     "execution_count": 12,
     "metadata": {},
     "output_type": "execute_result"
    }
   ],
   "source": [
    "a.index(123)"
   ]
  },
  {
   "cell_type": "code",
   "execution_count": 13,
   "metadata": {},
   "outputs": [
    {
     "data": {
      "text/plain": [
       "[123, 4, 67]"
      ]
     },
     "execution_count": 13,
     "metadata": {},
     "output_type": "execute_result"
    }
   ],
   "source": [
    "a[::2]"
   ]
  },
  {
   "cell_type": "code",
   "execution_count": 14,
   "metadata": {},
   "outputs": [],
   "source": [
    "a ={}\n",
    "a['name'] = 'Govind'"
   ]
  },
  {
   "cell_type": "code",
   "execution_count": 23,
   "metadata": {},
   "outputs": [
    {
     "name": "stdout",
     "output_type": "stream",
     "text": [
      "I yellow lemon sour\n",
      "Yep! I'm edible.\n",
      "Don't eat me! I am super poisonous.\n"
     ]
    }
   ],
   "source": [
    "class Fruit(object):\n",
    "    \"\"\"\n",
    "    A class that makes various tasty fruits.\n",
    "    \"\"\"\n",
    "    def __init__(self, name, color, flavor, poisonous):\n",
    "        self.name = name\n",
    "        self.color = color\n",
    "        self.flavor = flavor\n",
    "        self.poisonous = poisonous\n",
    "\n",
    "    def description(self):\n",
    "#         print(\"I'm a %s %s and I taste %s.\" % (self.color, self.name, self.flavor))\n",
    "        print(\"I {} {} {}\".format(self.color, self.name, self.flavor))\n",
    "\n",
    "    def is_edible(self):\n",
    "        if not self.poisonous:\n",
    "            print(\"Yep! I'm edible.\")\n",
    "        else:\n",
    "            print(\"Don't eat me! I am super poisonous.\")\n",
    "\n",
    "lemon = Fruit(\"lemon\", \"yellow\", \"sour\", False)\n",
    "\n",
    "orange = Fruit(\"or\",\"or\",\"tasty\",True)\n",
    "\n",
    "lemon.description()\n",
    "\n",
    "lemon.is_edible()\n",
    "orange.is_edible()"
   ]
  },
  {
   "cell_type": "code",
   "execution_count": 21,
   "metadata": {},
   "outputs": [
    {
     "name": "stdout",
     "output_type": "stream",
     "text": [
      "111\n"
     ]
    },
    {
     "data": {
      "text/plain": [
       "2.0"
      ]
     },
     "execution_count": 21,
     "metadata": {},
     "output_type": "execute_result"
    }
   ],
   "source": [
    "class math_func():\n",
    "    def __init__(self, number):\n",
    "        self.number = number \n",
    "    \n",
    "    def sqrt(self):\n",
    "        print(\"111\")\n",
    "    \n",
    "    def org_sqrt(self):\n",
    "        self.sqrt()\n",
    "        return self.number ** .5\n",
    "\n",
    "a = math_func(4)\n",
    "a.org_sqrt()\n",
    "        "
   ]
  },
  {
   "cell_type": "code",
   "execution_count": 24,
   "metadata": {},
   "outputs": [
    {
     "data": {
      "text/plain": [
       "53"
      ]
     },
     "execution_count": 24,
     "metadata": {},
     "output_type": "execute_result"
    }
   ],
   "source": [
    "class max_lists(object):\n",
    "    \"\"\"\n",
    "        This class performs the operation of finding the max of lists! \n",
    "    \"\"\"\n",
    "    \n",
    "    def __init__(self, lists):\n",
    "        '''\n",
    "            MAX_LISTS CONSTRUCTOR\n",
    "        '''\n",
    "        self.lists = lists\n",
    "        \n",
    "    def find_max(self):\n",
    "        '''\n",
    "            FINDS THE MAX OF LISTS\n",
    "        '''\n",
    "        b = []\n",
    "        for iter_elem in self.lists:\n",
    "            for i in iter_elem:\n",
    "                b.append(i)\n",
    "        b.sort()\n",
    "        return b[len(b)-1]\n",
    "        \n",
    "a = max_lists([[1,2,3],[4,53,3]])\n",
    "a.find_max()"
   ]
  },
  {
   "cell_type": "code",
   "execution_count": 26,
   "metadata": {},
   "outputs": [
    {
     "name": "stdout",
     "output_type": "stream",
     "text": [
      "qwe added.\n",
      "qwe1 added.\n",
      "qwe2 added.\n",
      "qwe3 added.\n",
      "qwe4 added.\n",
      "qwe5 is not in the cart.\n",
      "qwe3 removed.\n"
     ]
    }
   ],
   "source": [
    "class ShoppingCart(object):\n",
    "    \"\"\"\n",
    "        Creates shopping cart objects for users of our fine website.\n",
    "    \"\"\"\n",
    "    \n",
    "    items_in_cart = {}\n",
    "    \n",
    "    def __init__(self, customer_name):\n",
    "        self.customer_name = customer_name\n",
    "\n",
    "    def add_item(self, product, price):\n",
    "        \"\"\"Add product to the cart.\"\"\"\n",
    "        if not product in self.items_in_cart:\n",
    "            self.items_in_cart[product] = price\n",
    "            print(product + \" added.\")\n",
    "        else:\n",
    "            print(product + \" is already in the cart.\")\n",
    "\n",
    "    def remove_item(self, product):\n",
    "        \"\"\"Remove product from the cart.\"\"\"\n",
    "        if product in self.items_in_cart:\n",
    "            del self.items_in_cart[product]\n",
    "            print(product + \" removed.\")\n",
    "        else:\n",
    "            print(product + \" is not in the cart.\")\n",
    "            \n",
    "my_cart = ShoppingCart(\"viki\")\n",
    "my_cart.add_item(\"qwe\",12)\n",
    "my_cart.add_item(\"qwe1\",123)\n",
    "my_cart.add_item(\"qwe2\",212)\n",
    "my_cart.add_item(\"qwe3\",122)\n",
    "my_cart.add_item(\"qwe4\",121)\n",
    "my_cart.remove_item(\"qwe5\")\n",
    "my_cart.remove_item(\"qwe3\")"
   ]
  },
  {
   "cell_type": "code",
   "execution_count": 28,
   "metadata": {},
   "outputs": [
    {
     "name": "stdout",
     "output_type": "stream",
     "text": [
      "I'm a string that stands in for the contents of your shopping cart!\n",
      "I'm a string that stands in for your order history!\n"
     ]
    }
   ],
   "source": [
    "#Inheritance\n",
    "class Customer(object):\n",
    "    \"\"\"Produces objects that represent customers.\"\"\"\n",
    "    def __init__(self, customer_id):\n",
    "        self.customer_id = customer_id\n",
    "\n",
    "    def display_cart(self):\n",
    "        print(\"I'm a string that stands in for the contents of your shopping cart!\")\n",
    "\n",
    "class ReturningCustomer(Customer):\n",
    "    \"\"\"For customers of the repeat variety.\"\"\"\n",
    "    def display_order_history(self):\n",
    "        print(\"I'm a string that stands in for your order history!\")\n",
    "\n",
    "monty_python = ReturningCustomer(\"ID: 12345\")\n",
    "monty_python.display_cart()\n",
    "monty_python.display_order_history()\n"
   ]
  },
  {
   "cell_type": "code",
   "execution_count": 29,
   "metadata": {},
   "outputs": [
    {
     "name": "stdout",
     "output_type": "stream",
     "text": [
      "Hello, Emily\n",
      "Get back to work, Steve!\n"
     ]
    },
    {
     "data": {
      "text/plain": [
       "'Emily'"
      ]
     },
     "execution_count": 29,
     "metadata": {},
     "output_type": "execute_result"
    }
   ],
   "source": [
    "#Override\n",
    "class Employee(object):\n",
    "    def __init__(self, name):\n",
    "        self.name = name\n",
    "    def greet(self, other):\n",
    "        print(\"Hello, %s\" % other.name)\n",
    "\n",
    "class CEO(Employee):\n",
    "    def greet(self, other):\n",
    "        print(\"Get back to work, %s!\" % other.name)\n",
    "\n",
    "ceo = CEO(\"Emily\")\n",
    "emp = Employee(\"Steve\")\n",
    "emp.greet(ceo)\n",
    "ceo.greet(emp)\n",
    "ceo.name"
   ]
  },
  {
   "cell_type": "markdown",
   "metadata": {},
   "source": [
    "## File handling! \n"
   ]
  },
  {
   "cell_type": "code",
   "execution_count": 48,
   "metadata": {},
   "outputs": [
    {
     "name": "stdout",
     "output_type": "stream",
     "text": [
      "Hi\n",
      "\n",
      "DS python\n",
      "\n",
      "viki\n"
     ]
    }
   ],
   "source": [
    "filename = \"hello.txt\"\n",
    "file = open(filename, \"r\")\n",
    "for line in file:\n",
    "   print(line)"
   ]
  },
  {
   "cell_type": "code",
   "execution_count": 49,
   "metadata": {},
   "outputs": [
    {
     "name": "stdout",
     "output_type": "stream",
     "text": [
      "Hi\n",
      "DS python\n",
      "viki\n"
     ]
    }
   ],
   "source": [
    "#To read a text file, use:\n",
    "fh = open(\"hello.txt\",\"r\")\n",
    "print(fh.read())\n",
    "fh.close()"
   ]
  },
  {
   "cell_type": "code",
   "execution_count": 50,
   "metadata": {},
   "outputs": [
    {
     "name": "stdout",
     "output_type": "stream",
     "text": [
      "Hi\n",
      "\n"
     ]
    }
   ],
   "source": [
    "#To read one line at a time, use:\n",
    "fh = open(\"hello.txt\", \"r\")\n",
    "print(fh.readline())"
   ]
  },
  {
   "cell_type": "code",
   "execution_count": 51,
   "metadata": {},
   "outputs": [
    {
     "name": "stdout",
     "output_type": "stream",
     "text": [
      "['Hi\\n', 'DS python\\n', 'viki']\n"
     ]
    }
   ],
   "source": [
    "#To read a list of lines use:\n",
    "fh = open(\"hello.txt.\", \"r\")\n",
    "print(fh.readlines())"
   ]
  },
  {
   "cell_type": "code",
   "execution_count": 52,
   "metadata": {},
   "outputs": [],
   "source": [
    "#To write to a file, use:\n",
    "fh = open(\"hello.txt\",\"w\")\n",
    "fh.write(\"Hello World\")\n",
    "fh.close()"
   ]
  },
  {
   "cell_type": "code",
   "execution_count": 53,
   "metadata": {},
   "outputs": [
    {
     "name": "stdout",
     "output_type": "stream",
     "text": [
      "['Hello World']\n"
     ]
    }
   ],
   "source": [
    "fh = open(\"hello.txt.\", \"r\")\n",
    "print(fh.readlines())"
   ]
  },
  {
   "cell_type": "code",
   "execution_count": 54,
   "metadata": {},
   "outputs": [],
   "source": [
    "#To write to a file, use:\n",
    "fh = open(\"hello.txt\", \"w\")\n",
    "lines_of_text = [\"a line of text\", \"another line of text\", \"a third line\"]\n",
    "fh.writelines(lines_of_text)\n",
    "fh.close()"
   ]
  },
  {
   "cell_type": "code",
   "execution_count": 55,
   "metadata": {},
   "outputs": [
    {
     "name": "stdout",
     "output_type": "stream",
     "text": [
      "['a line of textanother line of texta third line']\n"
     ]
    }
   ],
   "source": [
    "fh = open(\"hello.txt.\", \"r\")\n",
    "print(fh.readlines())"
   ]
  },
  {
   "cell_type": "code",
   "execution_count": 56,
   "metadata": {},
   "outputs": [
    {
     "name": "stdout",
     "output_type": "stream",
     "text": [
      "a line of textanother line of texta third lineHello World again\n"
     ]
    }
   ],
   "source": [
    "#To append to file, use:\n",
    "fh = open(\"Hello.txt\", \"a\")\n",
    "fh.write(\"Hello World again\")\n",
    "fh.close()\n",
    "\n",
    "#To close a file, use\n",
    "fh = open(\"hello.txt\", \"r\")\n",
    "print(fh.read())\n",
    "fh.close()"
   ]
  },
  {
   "cell_type": "code",
   "execution_count": 58,
   "metadata": {},
   "outputs": [],
   "source": [
    "class write_info(object):\n",
    "    def __init__(self, number):\n",
    "        self.number = number\n",
    "    \n",
    "    def write_to_file(self,avg):\n",
    "        fh = open(\"hello.txt\", 'wb')\n",
    "        fh.write(str(avg))\n",
    "        \n",
    "    def grades_variance(scores):\n",
    "        average = grades_average(scores)\n",
    "        variance = 0\n",
    "        for score in scores:\n",
    "            variance =  (average - score)**2 + variance\n",
    "        result = variance/float(len(scores))\n",
    "\n",
    "    def mean_func(self):\n",
    "        avg = sum(self.number) / len(self.number)\n",
    "        self.write_to_file(avg)\n",
    "    \n",
    "    \n",
    "a = write_info([4,2,3])\n",
    "a.mean_func()"
   ]
  },
  {
   "cell_type": "code",
   "execution_count": null,
   "metadata": {},
   "outputs": [],
   "source": [
    "# pandas! \n",
    "# mathplotlib! "
   ]
  }
 ],
 "metadata": {
  "kernelspec": {
   "display_name": "Python 3",
   "language": "python",
   "name": "python3"
  },
  "language_info": {
   "codemirror_mode": {
    "name": "ipython",
    "version": 3
   },
   "file_extension": ".py",
   "mimetype": "text/x-python",
   "name": "python",
   "nbconvert_exporter": "python",
   "pygments_lexer": "ipython3",
   "version": "3.6.6"
  }
 },
 "nbformat": 4,
 "nbformat_minor": 2
}
